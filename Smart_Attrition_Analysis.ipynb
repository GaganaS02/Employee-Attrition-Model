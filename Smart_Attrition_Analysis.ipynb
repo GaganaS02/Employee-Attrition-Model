{
 "cells": [
  {
   "cell_type": "code",
   "execution_count": null,
   "id": "20053e35",
   "metadata": {},
   "outputs": [],
   "source": [
    "!pip install pandas scikit-learn numpy nltk textblob"
   ]
  },
  {
   "cell_type": "code",
   "execution_count": null,
   "id": "a5a59f36",
   "metadata": {},
   "outputs": [],
   "source": [
    "import pandas as pd\n",
    "\n",
    "df_attrition = pd.read_csv('data/WA_Fn-UseC_-HR-Employee-Attrition.csv')\n",
    "df_feedback = pd.read_csv('data/employee_feedback.csv') # Make sure this matches exactly\n",
    "\n",
    "print(\"Attrition Data Head:\")\n",
    "print(df_attrition.head())\n",
    "print(\"\\nFeedback Data Head:\")\n",
    "print(df_feedback.head())"
   ]
  },
  {
   "cell_type": "code",
   "execution_count": null,
   "id": "095f759e",
   "metadata": {},
   "outputs": [],
   "source": [
    "import pandas as pd\n",
    "\n",
    "df_attrition = pd.read_csv('data/WA_Fn-UseC_-HR-Employee-Attrition.csv')\n",
    "df_feedback = pd.read_csv('data/employee_feedback.csv') # Make sure this matches exactly\n",
    "\n",
    "print(\"Attrition Data Head:\")\n",
    "print(df_attrition.head())\n",
    "print(\"\\nFeedback Data Head:\")\n",
    "print(df_feedback.head())"
   ]
  },
  {
   "cell_type": "code",
   "execution_count": null,
   "id": "8ea211a9",
   "metadata": {},
   "outputs": [],
   "source": [
    "# Convert categorical data to numerical (e.g., one-hot encoding)\n",
    "df_attrition = pd.get_dummies(df_attrition, columns=['JobRole', 'Department'], drop_first=True)\n",
    "\n",
    "# Split the data\n",
    "from sklearn.model_selection import train_test_split\n",
    "X = df_attrition.drop('Attrition', axis=1)\n",
    "y = df_attrition['Attrition']\n",
    "X_train, X_test, y_train, y_test = train_test_split(X, y, test_size=0.2, random_state=42)"
   ]
  },
  {
   "cell_type": "code",
   "execution_count": null,
   "id": "a85b0e7c",
   "metadata": {},
   "outputs": [],
   "source": [
    "from sklearn.ensemble import RandomForestClassifier\n",
    "\n",
    "model = RandomForestClassifier(n_estimators=100, random_state=42)\n",
    "model.fit(X_train, y_train)\n",
    "\n",
    "# Print model performance\n",
    "from sklearn.metrics import accuracy_score\n",
    "y_pred = model.predict(X_test)\n",
    "print(\"Model Accuracy:\", accuracy_score(y_test, y_pred))"
   ]
  },
  {
   "cell_type": "code",
   "execution_count": null,
   "id": "53781270",
   "metadata": {},
   "outputs": [],
   "source": [
    "from sklearn.model_selection import train_test_split\n",
    "\n",
    "# Separate features (X) and the target variable (y)\n",
    "# The target variable is now 'Attrition_Yes', which was created by get_dummies()\n",
    "X = df_encoded.drop('Attrition_Yes', axis=1) \n",
    "y = df_encoded['Attrition_Yes']\n",
    "\n",
    "# Split data into 80% training and 20% testing sets\n",
    "X_train, X_test, y_train, y_test = train_test_split(X, y, test_size=0.2, random_state=42)\n",
    "\n",
    "# Print the shapes to confirm the split\n",
    "print(\"X_train shape:\", X_train.shape)\n",
    "print(\"X_test shape:\", X_test.shape)\n",
    "print(\"y_train shape:\", y_train.shape)\n",
    "print(\"y_test shape:\", y_test.shape)"
   ]
  },
  {
   "cell_type": "code",
   "execution_count": null,
   "id": "c9e5585a",
   "metadata": {},
   "outputs": [],
   "source": [
    "print(df_attrition_processed['Attrition'].unique())"
   ]
  },
  {
   "cell_type": "code",
   "execution_count": null,
   "id": "c7ee3016",
   "metadata": {},
   "outputs": [],
   "source": [
    "from sklearn.model_selection import train_test_split\n",
    "from sklearn.ensemble import RandomForestClassifier\n",
    "from sklearn.metrics import accuracy_score, classification_report\n",
    "\n",
    "# The original 'Attrition' column is now encoded and should be dropped.\n",
    "# We'll use the 'Attrition_Yes' column as our target.\n",
    "X = df_encoded.drop(columns=['Attrition_Yes'], axis=1) \n",
    "y = df_encoded['Attrition_Yes']\n",
    "\n",
    "# Split data into 80% training and 20% testing sets\n",
    "X_train, X_test, y_train, y_test = train_test_split(X, y, test_size=0.2, random_state=42)\n",
    "\n",
    "# Check the shape of the split to confirm it worked\n",
    "print(\"X_train shape:\", X_train.shape)\n",
    "print(\"y_train shape:\", y_train.shape)\n",
    "\n",
    "# Initialize and train the model\n",
    "model = RandomForestClassifier(n_estimators=100, random_state=42)\n",
    "model.fit(X_train, y_train)\n",
    "\n",
    "# Make predictions and evaluate\n",
    "y_pred = model.predict(X_test)\n",
    "print(\"\\nModel Accuracy:\", accuracy_score(y_test, y_pred))\n",
    "print(\"\\nClassification Report:\\n\", classification_report(y_test, y_pred))"
   ]
  },
  {
   "cell_type": "code",
   "execution_count": null,
   "id": "d1e9b6d9",
   "metadata": {},
   "outputs": [],
   "source": [
    "import nltk\n",
    "from textblob import TextBlob\n",
    "\n",
    "# Download NLTK's lexicon for sentiment analysis\n",
    "nltk.download('vader_lexicon')\n",
    "\n",
    "# Load your feedback data\n",
    "df_feedback = pd.read_csv('data/employee_feedback.csv')\n",
    "\n",
    "# Define a function to get sentiment score\n",
    "def get_sentiment(text):\n",
    "    analysis = TextBlob(str(text))\n",
    "    return analysis.sentiment.polarity\n",
    "\n",
    "# Apply the function to the feedback column and create a new column for the score\n",
    "df_feedback['Sentiment_Score'] = df_feedback['Feedback'].apply(get_sentiment)\n",
    "\n",
    "print(\"Feedback with Sentiment Scores:\")\n",
    "print(df_feedback)\n",
    "\n",
    "# Classify sentiment as positive, negative, or neutral\n",
    "def classify_sentiment(score):\n",
    "    if score > 0:\n",
    "        return 'Positive'\n",
    "    elif score < 0:\n",
    "        return 'Negative'\n",
    "    else:\n",
    "        return 'Neutral'\n",
    "\n",
    "df_feedback['Sentiment_Class'] = df_feedback['Sentiment_Score'].apply(classify_sentiment)\n",
    "\n",
    "print(\"\\nFeedback with Sentiment Classes:\")\n",
    "print(df_feedback)"
   ]
  },
  {
   "cell_type": "code",
   "execution_count": 26,
   "id": "1dca9a4b",
   "metadata": {},
   "outputs": [
    {
     "name": "stdout",
     "output_type": "stream",
     "text": [
      "                                            Feedback Sentiment_Class  \\\n",
      "0  The manager is very supportive and I feel valu...        Positive   \n",
      "1  I am very stressed with the amount of work and...        Positive   \n",
      "2  The new project is interesting and I'm excited...        Positive   \n",
      "3  I feel overworked and the compensation is not ...        Negative   \n",
      "4  The company culture is very positive, and I ap...        Positive   \n",
      "5  Management needs to improve communication and ...         Neutral   \n",
      "\n",
      "                                      Recommendation  \n",
      "0  Recommendation: Continue to invest in positive...  \n",
      "1  Recommendation: Continue to invest in positive...  \n",
      "2  Recommendation: Continue to invest in positive...  \n",
      "3  Recommendation: Review the current compensatio...  \n",
      "4  Recommendation: Continue to invest in positive...  \n",
      "5  Recommendation: Monitor for further feedback a...  \n"
     ]
    }
   ],
   "source": [
    "# Create a simple recommendation function\n",
    "def get_recommendation(feedback_text, sentiment_class):\n",
    "    if sentiment_class == 'Negative':\n",
    "        if \"stress\" in feedback_text.lower() or \"workload\" in feedback_text.lower():\n",
    "            return \"Recommendation: Suggest a mandatory 'no-meetings' day and promote a healthy work-life balance.\"\n",
    "        elif \"management\" in feedback_text.lower() or \"communication\" in feedback_text.lower():\n",
    "            return \"Recommendation: Propose a workshop on effective communication and management skills for team leaders.\"\n",
    "        elif \"compensation\" in feedback_text.lower() or \"salary\" in feedback_text.lower():\n",
    "            return \"Recommendation: Review the current compensation structure and conduct a market analysis to ensure fair pay.\"\n",
    "        else:\n",
    "            return \"Recommendation: Conduct a follow-up survey to identify the root cause of the negative feedback.\"\n",
    "    elif sentiment_class == 'Positive':\n",
    "        return \"Recommendation: Continue to invest in positive reinforcement and team-building activities.\"\n",
    "    else:\n",
    "        return \"Recommendation: Monitor for further feedback and offer general wellness resources.\"\n",
    "\n",
    "# Apply the recommendation function to the DataFrame\n",
    "df_feedback['Recommendation'] = df_feedback.apply(\n",
    "    lambda row: get_recommendation(row['Feedback'], row['Sentiment_Class']),\n",
    "    axis=1\n",
    ")\n",
    "\n",
    "# Display the final feedback and recommendations\n",
    "print(df_feedback[['Feedback', 'Sentiment_Class', 'Recommendation']])"
   ]
  },
  {
   "cell_type": "code",
   "execution_count": null,
   "id": "941f7b67",
   "metadata": {},
   "outputs": [],
   "source": [
    "import os\n",
    "print(os.getcwd())"
   ]
  },
  {
   "cell_type": "code",
   "execution_count": null,
   "id": "387fca84",
   "metadata": {},
   "outputs": [],
   "source": [
    "import os\n",
    "print(os.listdir('data'))"
   ]
  }
 ],
 "metadata": {
  "kernelspec": {
   "display_name": "base",
   "language": "python",
   "name": "python3"
  },
  "language_info": {
   "codemirror_mode": {
    "name": "ipython",
    "version": 3
   },
   "file_extension": ".py",
   "mimetype": "text/x-python",
   "name": "python",
   "nbconvert_exporter": "python",
   "pygments_lexer": "ipython3",
   "version": "3.10.9"
  }
 },
 "nbformat": 4,
 "nbformat_minor": 5
}
